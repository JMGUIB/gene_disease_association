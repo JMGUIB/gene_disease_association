{
 "cells": [
  {
   "attachments": {},
   "cell_type": "markdown",
   "metadata": {},
   "source": [
    "# PROJECT SUMMARY"
   ]
  },
  {
   "attachments": {},
   "cell_type": "markdown",
   "metadata": {},
   "source": [
    "With the aim of offering a more personalized medicine, and therefore more effective, to patients, this project will try to generate\n",
    "a model that makes a prediction of genes-disease association."
   ]
  },
  {
   "attachments": {},
   "cell_type": "markdown",
   "metadata": {},
   "source": [
    "## Datasets and alternative data sources"
   ]
  },
  {
   "attachments": {},
   "cell_type": "markdown",
   "metadata": {},
   "source": [
    "To carry out the following project, the model will be trained using a dataset obtained from the [Therapeutics Data Commons](https://tdcommons.ai/) database, specifically from the following source [Gene-Disease Association](https://tdcommons.ai/multi_pred_tasks/gdi/)."
   ]
  },
  {
   "attachments": {},
   "cell_type": "markdown",
   "metadata": {},
   "source": [
    "## Data Analysis"
   ]
  },
  {
   "attachments": {},
   "cell_type": "markdown",
   "metadata": {},
   "source": [
    "In first place we obtain de dataset from the source mentioned before. Then we did a Label Encoder and a get dummies function from Pandas to generate new columns with values of 1 or 0 (True or False) related to the disease and the aminoacid sequence of a gene that is associated or not to the disease. You can check the code on the data_processing&model_definition.ipynb file or in the data_analysis.py file "
   ]
  },
  {
   "attachments": {},
   "cell_type": "markdown",
   "metadata": {},
   "source": [
    "## Machine Learning"
   ]
  },
  {
   "attachments": {},
   "cell_type": "markdown",
   "metadata": {},
   "source": [
    "To be sure of use the best ML model, we revised the bibliography of previous studies, and we realised that the most accurate and the most popular was XGBoost, and for our data set we needed the XGBoostRegressor from sklearn. We trained the model with the parameters: ``` n_estimators = 10, alpha=1, eta=0.2, max_depth=5 ```. You cand check the code on the data_processing&model_definition.ipynb file or in the train.py file "
   ]
  },
  {
   "cell_type": "markdown",
   "metadata": {},
   "source": []
  }
 ],
 "metadata": {
  "kernelspec": {
   "display_name": "Python 3",
   "language": "python",
   "name": "python3"
  },
  "language_info": {
   "codemirror_mode": {
    "name": "ipython",
    "version": 3
   },
   "file_extension": ".py",
   "mimetype": "text/x-python",
   "name": "python",
   "nbconvert_exporter": "python",
   "pygments_lexer": "ipython3",
   "version": "3.9.13"
  },
  "orig_nbformat": 4,
  "vscode": {
   "interpreter": {
    "hash": "2575e81977df9ce8a2b5564ee06141818cc986a300d85fe3b173884aeb646944"
   }
  }
 },
 "nbformat": 4,
 "nbformat_minor": 2
}
